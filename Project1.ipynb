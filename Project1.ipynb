{
 "cells": [
  {
   "cell_type": "code",
   "execution_count": 24,
   "metadata": {},
   "outputs": [],
   "source": [
    "import pandas as pd\n",
    "\n",
    "result = pd.read_csv('D:\\PYstudy\\Data_Engine_with_Python-master\\数据分析训练营-结营考试/result_VW.csv')\n",
    "result['min_price'] = result['价格'].str.split('-',expand=True)[0] + '万'\n",
    "result['max_price'] = result['价格'].str.split('-',expand=True)[1]\n",
    "result1 = result.drop(['价格'],axis = 1)\n",
    "result1.to_csv('VW_result.csv',index=False)"
   ]
  },
  {
   "cell_type": "code",
   "execution_count": null,
   "metadata": {},
   "outputs": [],
   "source": []
  }
 ],
 "metadata": {
  "kernelspec": {
   "display_name": "Python 3",
   "language": "python",
   "name": "python3"
  },
  "language_info": {
   "codemirror_mode": {
    "name": "ipython",
    "version": 3
   },
   "file_extension": ".py",
   "mimetype": "text/x-python",
   "name": "python",
   "nbconvert_exporter": "python",
   "pygments_lexer": "ipython3",
   "version": "3.7.6"
  }
 },
 "nbformat": 4,
 "nbformat_minor": 4
}
